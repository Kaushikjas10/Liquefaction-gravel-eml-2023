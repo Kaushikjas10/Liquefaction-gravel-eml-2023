{
 "cells": [
  {
   "cell_type": "markdown",
   "metadata": {
    "id": "O2YK8DLPetUS"
   },
   "source": [
    "# Load some essential python packages\n",
    "\n",
    "Artcle link for more information:\n",
    "\n",
    "https://doi.org/10.1016/j.compgeo.2023.106051"
   ]
  },
  {
   "cell_type": "code",
   "execution_count": 1,
   "metadata": {
    "id": "l-eLsTkaUpEu"
   },
   "outputs": [],
   "source": [
    "#Import libraries\n",
    "import matplotlib.pyplot as plt\n",
    "%matplotlib inline\n",
    "import numpy as np\n",
    "import pandas as pd"
   ]
  },
  {
   "cell_type": "markdown",
   "metadata": {
    "id": "HGVYbQBkU3Q2"
   },
   "source": [
    "# Load Test Sites Data"
   ]
  },
  {
   "cell_type": "code",
   "execution_count": 2,
   "metadata": {
    "colab": {
     "base_uri": "https://localhost:8080/",
     "height": 73
    },
    "id": "SMnYSEt3U-42",
    "outputId": "38cf2ee2-328a-4887-8b32-a9b78efe6832"
   },
   "outputs": [],
   "source": [
    "# If test sites information csv format then load the CSV file into a Pandas dataframe\n",
    "df = pd.read_csv('TestSitesGravel.csv')\n",
    "\n",
    "#You can replace your test sites information file name with this: \"TestSitesGravel\"\n",
    "\n",
    "# If test sites information excel format then load the excel file into a Pandas dataframe as follows\n",
    "#df = pd.read_excel('TestSites.xlsx')\n",
    "\n",
    "# Extract the features\n",
    "#X = df.values\n",
    "X = df.drop({'OP','CIN'}, axis='columns')"
   ]
  },
  {
   "cell_type": "code",
   "execution_count": null,
   "metadata": {
    "colab": {
     "base_uri": "https://localhost:8080/"
    },
    "id": "FETHoe_tgR5F",
    "outputId": "6706586a-6c48-4322-89bb-4aa815cbb9a5"
   },
   "outputs": [
    {
     "name": "stdout",
     "output_type": "stream",
     "text": [
      "<class 'pandas.core.frame.DataFrame'>\n",
      "RangeIndex: 7 entries, 0 to 6\n",
      "Data columns (total 5 columns):\n",
      " #   Column  Non-Null Count  Dtype  \n",
      "---  ------  --------------  -----  \n",
      " 0   IP1     7 non-null      float64\n",
      " 1   IP2     7 non-null      float64\n",
      " 2   IP3     7 non-null      float64\n",
      " 3   IP4     7 non-null      float64\n",
      " 4   IP5     7 non-null      float64\n",
      "dtypes: float64(5)\n",
      "memory usage: 408.0 bytes\n"
     ]
    }
   ],
   "source": [
    "X.info()"
   ]
  },
  {
   "cell_type": "code",
   "execution_count": 4,
   "metadata": {},
   "outputs": [
    {
     "data": {
      "text/html": [
       "<div>\n",
       "<style scoped>\n",
       "    .dataframe tbody tr th:only-of-type {\n",
       "        vertical-align: middle;\n",
       "    }\n",
       "\n",
       "    .dataframe tbody tr th {\n",
       "        vertical-align: top;\n",
       "    }\n",
       "\n",
       "    .dataframe thead th {\n",
       "        text-align: right;\n",
       "    }\n",
       "</style>\n",
       "<table border=\"1\" class=\"dataframe\">\n",
       "  <thead>\n",
       "    <tr style=\"text-align: right;\">\n",
       "      <th></th>\n",
       "      <th>IP1</th>\n",
       "      <th>IP2</th>\n",
       "      <th>IP3</th>\n",
       "      <th>IP4</th>\n",
       "      <th>IP5</th>\n",
       "    </tr>\n",
       "  </thead>\n",
       "  <tbody>\n",
       "    <tr>\n",
       "      <th>count</th>\n",
       "      <td>7.000000</td>\n",
       "      <td>7.000000</td>\n",
       "      <td>7.000000</td>\n",
       "      <td>7.000000</td>\n",
       "      <td>7.000000</td>\n",
       "    </tr>\n",
       "    <tr>\n",
       "      <th>mean</th>\n",
       "      <td>7.814286</td>\n",
       "      <td>9.527020</td>\n",
       "      <td>192.162104</td>\n",
       "      <td>1.012105</td>\n",
       "      <td>0.448734</td>\n",
       "    </tr>\n",
       "    <tr>\n",
       "      <th>std</th>\n",
       "      <td>1.537778</td>\n",
       "      <td>3.573137</td>\n",
       "      <td>25.191346</td>\n",
       "      <td>0.545926</td>\n",
       "      <td>0.287758</td>\n",
       "    </tr>\n",
       "    <tr>\n",
       "      <th>min</th>\n",
       "      <td>5.300000</td>\n",
       "      <td>5.480000</td>\n",
       "      <td>144.000000</td>\n",
       "      <td>0.577000</td>\n",
       "      <td>0.127000</td>\n",
       "    </tr>\n",
       "    <tr>\n",
       "      <th>25%</th>\n",
       "      <td>6.950000</td>\n",
       "      <td>7.603203</td>\n",
       "      <td>188.000000</td>\n",
       "      <td>0.584867</td>\n",
       "      <td>0.229953</td>\n",
       "    </tr>\n",
       "    <tr>\n",
       "      <th>50%</th>\n",
       "      <td>7.900000</td>\n",
       "      <td>8.750434</td>\n",
       "      <td>192.707710</td>\n",
       "      <td>0.878000</td>\n",
       "      <td>0.332000</td>\n",
       "    </tr>\n",
       "    <tr>\n",
       "      <th>75%</th>\n",
       "      <td>9.200000</td>\n",
       "      <td>10.556150</td>\n",
       "      <td>203.213510</td>\n",
       "      <td>1.213000</td>\n",
       "      <td>0.717616</td>\n",
       "    </tr>\n",
       "    <tr>\n",
       "      <th>max</th>\n",
       "      <td>9.200000</td>\n",
       "      <td>16.140000</td>\n",
       "      <td>226.000000</td>\n",
       "      <td>2.034000</td>\n",
       "      <td>0.787000</td>\n",
       "    </tr>\n",
       "  </tbody>\n",
       "</table>\n",
       "</div>"
      ],
      "text/plain": [
       "            IP1        IP2         IP3       IP4       IP5\n",
       "count  7.000000   7.000000    7.000000  7.000000  7.000000\n",
       "mean   7.814286   9.527020  192.162104  1.012105  0.448734\n",
       "std    1.537778   3.573137   25.191346  0.545926  0.287758\n",
       "min    5.300000   5.480000  144.000000  0.577000  0.127000\n",
       "25%    6.950000   7.603203  188.000000  0.584867  0.229953\n",
       "50%    7.900000   8.750434  192.707710  0.878000  0.332000\n",
       "75%    9.200000  10.556150  203.213510  1.213000  0.717616\n",
       "max    9.200000  16.140000  226.000000  2.034000  0.787000"
      ]
     },
     "execution_count": 4,
     "metadata": {},
     "output_type": "execute_result"
    }
   ],
   "source": [
    "X.describe()"
   ]
  },
  {
   "cell_type": "markdown",
   "metadata": {
    "id": "mmJ9Q9w2Vdfl"
   },
   "source": [
    "# Load the developed DPT-Vs model for gravelly soils"
   ]
  },
  {
   "cell_type": "code",
   "execution_count": null,
   "metadata": {
    "id": "lDn8vcEgVgX-"
   },
   "outputs": [],
   "source": [
    "import lightgbm as lgb\n",
    "#On of the developed model in this study is named as \"MODEL_A_KJSMGRD_Gravel_COMGE\". \n",
    "#Another one is named as \"MODEL_B_KJSMGRD_Gravel_COMGE_1.0\". That is the final fine tuned model.\n",
    "model = lgb.Booster(model_file='MODEL_A_KJSMGRD_Gravel_COMGE.txt')"
   ]
  },
  {
   "cell_type": "code",
   "execution_count": null,
   "metadata": {
    "colab": {
     "base_uri": "https://localhost:8080/"
    },
    "id": "dtSvKMogVgaM",
    "outputId": "07ea2233-fd7f-4272-fd91-9fcaba1751c5"
   },
   "outputs": [
    {
     "name": "stdout",
     "output_type": "stream",
     "text": [
      "Predicted Probability of Liquefaction for Test Sites:\n",
      "[0.95296981 0.887227   0.88447068 0.63861573 0.98420079 0.89381684\n",
      " 0.01865489]\n"
     ]
    }
   ],
   "source": [
    "y_pred = model.predict(X)\n",
    "print(\"Predicted Probability of Liquefaction for Test Sites:\")\n",
    "print(y_pred)"
   ]
  },
  {
   "cell_type": "markdown",
   "metadata": {
    "id": "jlIfmS27ato6"
   },
   "source": [
    "# SHAP Explainer\n",
    "\n",
    "% pip install shap\n",
    "\n",
    "API reference of SHAP plots: \n",
    "https://shap.readthedocs.io/en/latest/api.html#plots"
   ]
  },
  {
   "cell_type": "code",
   "execution_count": null,
   "metadata": {
    "id": "18FdHENamuzR"
   },
   "outputs": [],
   "source": []
  },
  {
   "cell_type": "code",
   "execution_count": null,
   "metadata": {},
   "outputs": [],
   "source": []
  },
  {
   "cell_type": "markdown",
   "metadata": {},
   "source": [
    "### Derive SHAP values and generate SHAP plots."
   ]
  },
  {
   "cell_type": "code",
   "execution_count": null,
   "metadata": {},
   "outputs": [],
   "source": [
    "#Calculate SVal\n",
    "# explain the model's predictions using SHAP\n",
    "import shap\n",
    "shap.initjs() #Enable Javascript to visualize this kind of plots. It must be enabled\n",
    "explainer = shap.TreeExplainer(model)"
   ]
  },
  {
   "cell_type": "code",
   "execution_count": null,
   "metadata": {},
   "outputs": [],
   "source": []
  },
  {
   "cell_type": "code",
   "execution_count": null,
   "metadata": {},
   "outputs": [],
   "source": [
    "shap_values_ts = explainer(X) # Shap value for test sites"
   ]
  },
  {
   "cell_type": "code",
   "execution_count": null,
   "metadata": {},
   "outputs": [],
   "source": [
    "#Conversion of SHAP values for the test sites\n",
    "shap_values_ts.values=shap_values_ts.values[:,:,1]\n",
    "shap_values_ts.base_values=shap_values_ts.base_values[:,1]"
   ]
  },
  {
   "cell_type": "code",
   "execution_count": null,
   "metadata": {},
   "outputs": [],
   "source": []
  },
  {
   "cell_type": "markdown",
   "metadata": {},
   "source": [
    "### Force plot for the CIN = 0"
   ]
  },
  {
   "cell_type": "code",
   "execution_count": null,
   "metadata": {},
   "outputs": [],
   "source": [
    "shap.plots.initjs()\n",
    "shap.plots.force(shap_values_ts[0], show=False)"
   ]
  },
  {
   "cell_type": "code",
   "execution_count": null,
   "metadata": {},
   "outputs": [],
   "source": []
  },
  {
   "cell_type": "markdown",
   "metadata": {},
   "source": [
    "### GET THE GLOBAL PLOT"
   ]
  },
  {
   "cell_type": "code",
   "execution_count": null,
   "metadata": {},
   "outputs": [],
   "source": [
    "#Global Bar plots\n",
    "shap.plots.bar(shap_values, max_display=5, show=False)"
   ]
  },
  {
   "cell_type": "code",
   "execution_count": null,
   "metadata": {},
   "outputs": [],
   "source": []
  },
  {
   "cell_type": "code",
   "execution_count": null,
   "metadata": {},
   "outputs": [],
   "source": []
  },
  {
   "cell_type": "code",
   "execution_count": null,
   "metadata": {
    "id": "pM7PdEnmmu1_"
   },
   "outputs": [],
   "source": []
  },
  {
   "cell_type": "markdown",
   "metadata": {
    "id": "EhYa4GBco2Z-"
   },
   "source": [
    "# Prepared by: \n",
    "\n",
    "#### Mr. KAUSHIK JAS, IITM, Chennai, Tamil Nadu, India\n",
    "\n",
    "Contact: ce19d202@smail.iitm.ac.in OR kaushik.jas.2013@gmail.com\n",
    "\n",
    "Website: https://sites.google.com/view/kaushikjasoffice3/home?authuser=0\n",
    "\n",
    "### Cite this model as:\n",
    "\n",
    "Jas, K., Mangalathu, S., & Dodagoudar, G. R. (2024). Evaluation and analysis of liquefaction potential of gravelly soils using explainable probabilistic machine learning model. Computers and Geotechnics, 167, 106051. https://doi.org/10.1016/j.compgeo.2023.106051."
   ]
  },
  {
   "cell_type": "code",
   "execution_count": null,
   "metadata": {},
   "outputs": [],
   "source": []
  },
  {
   "cell_type": "code",
   "execution_count": null,
   "metadata": {},
   "outputs": [],
   "source": []
  },
  {
   "cell_type": "code",
   "execution_count": null,
   "metadata": {},
   "outputs": [],
   "source": []
  }
 ],
 "metadata": {
  "colab": {
   "provenance": []
  },
  "kernelspec": {
   "display_name": "Python 3 (ipykernel)",
   "language": "python",
   "name": "python3"
  },
  "language_info": {
   "codemirror_mode": {
    "name": "ipython",
    "version": 3
   },
   "file_extension": ".py",
   "mimetype": "text/x-python",
   "name": "python",
   "nbconvert_exporter": "python",
   "pygments_lexer": "ipython3",
   "version": "3.10.9"
  }
 },
 "nbformat": 4,
 "nbformat_minor": 1
}
