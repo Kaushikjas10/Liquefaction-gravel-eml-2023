{
 "cells": [
  {
   "cell_type": "markdown",
   "id": "996b0846",
   "metadata": {},
   "source": [
    "## Load Some Essential Packages"
   ]
  },
  {
   "cell_type": "code",
   "execution_count": null,
   "id": "22b82a48",
   "metadata": {},
   "outputs": [],
   "source": [
    "import matplotlib.pyplot as plt\n",
    "%matplotlib inline\n",
    "import numpy as np\n",
    "import pandas as pd"
   ]
  },
  {
   "cell_type": "markdown",
   "id": "0620fa83",
   "metadata": {},
   "source": [
    "## Training and Testing Datasets"
   ]
  },
  {
   "cell_type": "code",
   "execution_count": null,
   "id": "7f02f0a4",
   "metadata": {},
   "outputs": [],
   "source": [
    "training_dataset = pd.read_csv('Training_Dataset.csv')\n",
    "testing_dataset = pd.read_csv('Testing_Dataset.csv')"
   ]
  },
  {
   "cell_type": "code",
   "execution_count": null,
   "id": "f57c81ff",
   "metadata": {},
   "outputs": [],
   "source": [
    "X_train = training_dataset.drop({'OP','CIN'}, axis='columns')\n",
    "y_train = training_dataset['OP']\n",
    "X_test = testing_dataset"
   ]
  },
  {
   "cell_type": "code",
   "execution_count": null,
   "id": "446ad17c",
   "metadata": {},
   "outputs": [],
   "source": []
  },
  {
   "cell_type": "markdown",
   "id": "61c5745d",
   "metadata": {},
   "source": [
    "## Training and Testing of the Model"
   ]
  },
  {
   "cell_type": "code",
   "execution_count": null,
   "id": "ed44f926",
   "metadata": {},
   "outputs": [],
   "source": [
    "import lightgbm as lgb\n",
    "model = lgb.LGBMClassifier(**Hyperparameters)\n",
    "model.fit(X_train, y_train)\n",
    "y_pred = model.predict(X_test)"
   ]
  },
  {
   "cell_type": "markdown",
   "id": "74b253d6",
   "metadata": {},
   "source": [
    "### Note:\n",
    "\n",
    "1) The \"training_dataset\" and \"testing_dataset\" associated with this work can be found in the Tables A1 and Table A2 in the supplymental material.\n",
    "\n",
    "2) The \"Hyperparameters\" obtained after tuning are given in Table 5 in the main text.\n",
    "\n",
    "3) A csv file \"TestSites.csv\" is provided to understand the inputs. It can be used to check the trained model in place of X_test. Follow this syntax: X_test = pd.read_csv('TestSites.csv')"
   ]
  }
 ],
 "metadata": {
  "kernelspec": {
   "display_name": "Python 3 (ipykernel)",
   "language": "python",
   "name": "python3"
  },
  "language_info": {
   "codemirror_mode": {
    "name": "ipython",
    "version": 3
   },
   "file_extension": ".py",
   "mimetype": "text/x-python",
   "name": "python",
   "nbconvert_exporter": "python",
   "pygments_lexer": "ipython3",
   "version": "3.10.9"
  }
 },
 "nbformat": 4,
 "nbformat_minor": 5
}
